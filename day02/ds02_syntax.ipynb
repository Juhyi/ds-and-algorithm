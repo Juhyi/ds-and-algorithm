{
 "cells": [
  {
   "cell_type": "code",
   "execution_count": null,
   "metadata": {},
   "outputs": [],
   "source": [
    "# file : ds02_syntax.ipyb\n",
    "# desc : 파이썬 기초 복습"
   ]
  },
  {
   "cell_type": "markdown",
   "metadata": {},
   "source": [
    "## 자료구조와 알고리즈\n",
    "\n",
    "- 파이썬 기초문법 복습\n",
    "\n",
    "### 1. 리스트 컨프리헨선(함축)"
   ]
  },
  {
   "cell_type": "code",
   "execution_count": 5,
   "metadata": {},
   "outputs": [
    {
     "data": {
      "text/plain": [
       "[1, 2, 3, 4, 5]"
      ]
     },
     "execution_count": 5,
     "metadata": {},
     "output_type": "execute_result"
    }
   ],
   "source": [
    "nums = []\n",
    "for i in range(1, 6):  # 1, 2, 3, 4, 5 # 반복문으로\n",
    "    nums.append(i)\n",
    "\n",
    "nums "
   ]
  },
  {
   "cell_type": "code",
   "execution_count": 8,
   "metadata": {},
   "outputs": [
    {
     "data": {
      "text/plain": [
       "[1, 2, 3, 4, 5]"
      ]
     },
     "execution_count": 8,
     "metadata": {},
     "output_type": "execute_result"
    }
   ],
   "source": [
    "nums = list(range(1,6)) #클래스로 생성\n",
    "nums "
   ]
  },
  {
   "cell_type": "code",
   "execution_count": 10,
   "metadata": {},
   "outputs": [
    {
     "data": {
      "text/plain": [
       "[1, 2, 3, 4, 5]"
      ]
     },
     "execution_count": 10,
     "metadata": {},
     "output_type": "execute_result"
    }
   ],
   "source": [
    "nums = [i for i in range(1, 6)] #리스트 함축\n",
    "nums"
   ]
  },
  {
   "cell_type": "code",
   "execution_count": 12,
   "metadata": {},
   "outputs": [
    {
     "data": {
      "text/plain": [
       "[1, 4, 9, 16, 25]"
      ]
     },
     "execution_count": 12,
     "metadata": {},
     "output_type": "execute_result"
    }
   ],
   "source": [
    "nums = [i * i for i in range(1,6)]\n",
    "nums"
   ]
  },
  {
   "cell_type": "code",
   "execution_count": 13,
   "metadata": {},
   "outputs": [
    {
     "data": {
      "text/plain": [
       "[1, 4, 9, 16, 25]"
      ]
     },
     "execution_count": 13,
     "metadata": {},
     "output_type": "execute_result"
    }
   ],
   "source": [
    "nums =[]\n",
    "for i in range(1,6):\n",
    "    nums.append(i * i)\n",
    "\n",
    "nums"
   ]
  },
  {
   "cell_type": "code",
   "execution_count": 14,
   "metadata": {},
   "outputs": [
    {
     "data": {
      "text/plain": [
       "[3, 6, 9, 12, 15, 18]"
      ]
     },
     "execution_count": 14,
     "metadata": {},
     "output_type": "execute_result"
    }
   ],
   "source": [
    "nums = []\n",
    "nums = [i for i in range(1,21) if i % 3 == 0] #3의 배수만 리스트\n",
    "nums"
   ]
  },
  {
   "cell_type": "code",
   "execution_count": 15,
   "metadata": {},
   "outputs": [
    {
     "data": {
      "text/plain": [
       "[[0, 1, 2, 3], [0, 1, 2, 3], [0, 1, 2, 3]]"
      ]
     },
     "execution_count": 15,
     "metadata": {},
     "output_type": "execute_result"
    }
   ],
   "source": [
    "nums2 = [[i for i in range(4)] for j in range(3)] # [[열, 안쪽값] 행]\n",
    "nums2"
   ]
  },
  {
   "cell_type": "markdown",
   "metadata": {},
   "source": [
    "### 세트"
   ]
  },
  {
   "cell_type": "code",
   "execution_count": 17,
   "metadata": {},
   "outputs": [
    {
     "data": {
      "text/plain": [
       "{1, 2, 3}"
      ]
     },
     "execution_count": 17,
     "metadata": {},
     "output_type": "execute_result"
    }
   ],
   "source": [
    "myset = {1, 2, 3, 3, 2, 1} # 집합은 같은수(값)는 중복제거\n",
    "myset"
   ]
  },
  {
   "cell_type": "markdown",
   "metadata": {},
   "source": [
    "### 로또번호 생성기"
   ]
  },
  {
   "cell_type": "code",
   "execution_count": 15,
   "metadata": {},
   "outputs": [],
   "source": [
    "import random"
   ]
  },
  {
   "cell_type": "code",
   "execution_count": 16,
   "metadata": {},
   "outputs": [],
   "source": [
    "# 전역변수 선언\n",
    "totalLotto = [] # 최종 로또 번호 저장\n",
    "lotto = []  #한회별 로또번호 저장(1차원 리스트)\n",
    "pickNum = 0\n",
    "count = 0"
   ]
  },
  {
   "cell_type": "code",
   "execution_count": 17,
   "metadata": {},
   "outputs": [
    {
     "name": "stdout",
     "output_type": "stream",
     "text": [
      "로또번호 생성 시작\n",
      "로또번호 생성 완료\n"
     ]
    }
   ],
   "source": [
    "print('로또번호 생성 시작')\n",
    "totalLotto = [] #로또결과 리스트 초기화\n",
    "count = int(input('뽑을 횟수 입력 > '))\n",
    "\n",
    "for _ in range(count):  #_(i위치) 반복되는 숫자를 사용하지 않겠음\n",
    "    lotto = []\n",
    "    while True:\n",
    "        pickNum = random.randint(1,45)   # 1부터 45 사이의 수를 저장\n",
    "        if pickNum not in lotto: # 랜덤으로 뽑은 수가 이미 있으면 패스\n",
    "            lotto.append(pickNum)\n",
    "        else:\n",
    "            continue    # 반복문이 여러개있으면 자신이 속한 반복문만 다시 반복\n",
    "\n",
    "        if len(lotto) >= 6: # 숫자를 6개 뽑았으면\n",
    "            break  # 반복문이 여러개 있으면 자신이 속한 반복문만 빠져나감\n",
    "    \n",
    "    totalLotto.append(lotto)\n",
    "\n",
    "print('로또번호 생성 완료')"
   ]
  },
  {
   "cell_type": "code",
   "execution_count": 18,
   "metadata": {},
   "outputs": [
    {
     "name": "stdout",
     "output_type": "stream",
     "text": [
      "로또번호 >  04 17 34 38 43 44로또번호 >  07 13 28 29 36 38로또번호 >  04 31 35 36 39 45로또번호 >  05 08 11 22 33 42로또번호 >  06 13 18 28 30 44"
     ]
    }
   ],
   "source": [
    "for item in totalLotto:\n",
    "    item.sort()\n",
    "    print('로또번호 > ', end='')\n",
    "    for i in item:\n",
    "        print(f' {i:02d}', end= '')"
   ]
  },
  {
   "cell_type": "code",
   "execution_count": null,
   "metadata": {},
   "outputs": [],
   "source": []
  }
 ],
 "metadata": {
  "kernelspec": {
   "display_name": "Python 3",
   "language": "python",
   "name": "python3"
  },
  "language_info": {
   "codemirror_mode": {
    "name": "ipython",
    "version": 3
   },
   "file_extension": ".py",
   "mimetype": "text/x-python",
   "name": "python",
   "nbconvert_exporter": "python",
   "pygments_lexer": "ipython3",
   "version": "3.11.5"
  }
 },
 "nbformat": 4,
 "nbformat_minor": 2
}
